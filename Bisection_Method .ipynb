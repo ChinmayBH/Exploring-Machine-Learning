{
 "cells": [
  {
   "cell_type": "markdown",
   "metadata": {},
   "source": [
    "# Bisection Method"
   ]
  },
  {
   "cell_type": "code",
   "execution_count": 1,
   "metadata": {},
   "outputs": [],
   "source": [
    "def bisect(x):\n",
    "    f_x=x**3+2*x+5\n",
    "    return f_x"
   ]
  },
  {
   "cell_type": "code",
   "execution_count": 11,
   "metadata": {},
   "outputs": [
    {
     "name": "stdout",
     "output_type": "stream",
     "text": [
      "enter a -4\n",
      "enter b 1\n",
      "-67.0 8.0\n"
     ]
    }
   ],
   "source": [
    "a=float(input(\"enter a \"))\n",
    "\n",
    "b=float(input(\"enter b \"))\n",
    "f_a=bisect(a)\n",
    "f_b=bisect(b)\n",
    "print(f_a,f_b)\n"
   ]
  },
  {
   "cell_type": "code",
   "execution_count": 15,
   "metadata": {},
   "outputs": [],
   "source": [
    "def bisection(a,b,tol):\n",
    " if f_a*f_b>0:\n",
    "   print(\"you choose wrong assumptions\")\n",
    " else:\n",
    "     while (b - a)/2.0 > tol:\n",
    "        x1=(a+b)/2 \n",
    "        f_x1=bisect(x1)\n",
    "        if f_a*f_x1<0:\n",
    "            x1=a\n",
    "        else:\n",
    "                x1=b   "
   ]
  },
  {
   "cell_type": "code",
   "execution_count": null,
   "metadata": {},
   "outputs": [],
   "source": [
    "BGT=bisection(-4,1,0.11)\n",
    "print(\"Root is:\",BGT)"
   ]
  },
  {
   "cell_type": "code",
   "execution_count": null,
   "metadata": {},
   "outputs": [],
   "source": [
    "#f_a*f_x<0:\n",
    " #   x1=a\n",
    "#else :\n",
    " #   x1=b"
   ]
  },
  {
   "cell_type": "code",
   "execution_count": 72,
   "metadata": {},
   "outputs": [],
   "source": [
    "#if f_a*f_b>0:\n",
    " #   print(\"you choose wrong assumptions\")\n",
    "#else:\n",
    " #       x1=(a+b)/2   \n",
    "  #      print(x1)"
   ]
  },
  {
   "cell_type": "code",
   "execution_count": 63,
   "metadata": {},
   "outputs": [
    {
     "name": "stdout",
     "output_type": "stream",
     "text": [
      "3.875\n"
     ]
    }
   ],
   "source": [
    "#f_x=bisect(x1)\n",
    "#print(f_x)"
   ]
  },
  {
   "cell_type": "code",
   "execution_count": 64,
   "metadata": {},
   "outputs": [],
   "source": [
    "#if f_a*f_x<0:\n",
    " #   x1=a\n",
    "#else :\n",
    " #   x1=b\n"
   ]
  },
  {
   "cell_type": "code",
   "execution_count": 83,
   "metadata": {},
   "outputs": [],
   "source": [
    "#print(x1)"
   ]
  },
  {
   "cell_type": "code",
   "execution_count": null,
   "metadata": {},
   "outputs": [],
   "source": []
  }
 ],
 "metadata": {
  "kernelspec": {
   "display_name": "Python 3",
   "language": "python",
   "name": "python3"
  },
  "language_info": {
   "codemirror_mode": {
    "name": "ipython",
    "version": 3
   },
   "file_extension": ".py",
   "mimetype": "text/x-python",
   "name": "python",
   "nbconvert_exporter": "python",
   "pygments_lexer": "ipython3",
   "version": "3.8.8"
  }
 },
 "nbformat": 4,
 "nbformat_minor": 4
}
